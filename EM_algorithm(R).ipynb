{
 "cells": [
  {
   "cell_type": "markdown",
   "metadata": {},
   "source": [
    "# EM algorithm"
   ]
  },
  {
   "cell_type": "code",
   "execution_count": 3,
   "metadata": {},
   "outputs": [
    {
     "data": {
      "text/html": [
       "197"
      ],
      "text/latex": [
       "197"
      ],
      "text/markdown": [
       "197"
      ],
      "text/plain": [
       "[1] 197"
      ]
     },
     "metadata": {},
     "output_type": "display_data"
    }
   ],
   "source": [
    "y<-c(125,18,20,34) #x1+x2, x3, x4, x5\n",
    "n<-sum(y)\n",
    "n #total trial number"
   ]
  },
  {
   "cell_type": "code",
   "execution_count": 4,
   "metadata": {},
   "outputs": [
    {
     "data": {
      "text/html": [
       "<ol class=list-inline>\n",
       "\t<li>0.2</li>\n",
       "\t<li>0.544165757906216</li>\n",
       "\t<li>0.615135163294277</li>\n",
       "\t<li>0.625256329912098</li>\n",
       "\t<li>0.626613437012183</li>\n",
       "\t<li>0.626793867579671</li>\n",
       "</ol>\n"
      ],
      "text/latex": [
       "\\begin{enumerate*}\n",
       "\\item 0.2\n",
       "\\item 0.544165757906216\n",
       "\\item 0.615135163294277\n",
       "\\item 0.625256329912098\n",
       "\\item 0.626613437012183\n",
       "\\item 0.626793867579671\n",
       "\\end{enumerate*}\n"
      ],
      "text/markdown": [
       "1. 0.2\n",
       "2. 0.544165757906216\n",
       "3. 0.615135163294277\n",
       "4. 0.625256329912098\n",
       "5. 0.626613437012183\n",
       "6. 0.626793867579671\n",
       "\n",
       "\n"
      ],
      "text/plain": [
       "[1] 0.2000000 0.5441658 0.6151352 0.6252563 0.6266134 0.6267939"
      ]
     },
     "metadata": {},
     "output_type": "display_data"
    }
   ],
   "source": [
    "niter<-50\n",
    "theta<-c()\n",
    "theta[1]<-0.2\n",
    "for(iter in 2:niter){\n",
    "  x2.hat <- y[1]*theta[iter-1]/(2+theta[iter-1])\n",
    "  theta[iter] <- (x2.hat+y[4])/(x2.hat+sum(y[-1]))\n",
    "  \n",
    "  if(abs(theta[iter]-theta[iter-1])<0.001) break\n",
    "}\n",
    "\n",
    "theta"
   ]
  },
  {
   "cell_type": "markdown",
   "metadata": {},
   "source": [
    "MLE : 0.6268"
   ]
  }
 ],
 "metadata": {
  "kernelspec": {
   "display_name": "R",
   "language": "R",
   "name": "ir"
  },
  "language_info": {
   "codemirror_mode": "r",
   "file_extension": ".r",
   "mimetype": "text/x-r-source",
   "name": "R",
   "pygments_lexer": "r",
   "version": "3.6.1"
  }
 },
 "nbformat": 4,
 "nbformat_minor": 4
}
