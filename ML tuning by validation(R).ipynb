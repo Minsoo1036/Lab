{
 "cells": [
  {
   "cell_type": "markdown",
   "metadata": {},
   "source": [
    "# Tune the tuning parameters for machine learning by validation data."
   ]
  },
  {
   "cell_type": "markdown",
   "metadata": {},
   "source": [
    "Most of machine learning models have their own parameters that can affect their performance. Generally the parameters control the model's flexibility or sensitivity to training data. In case linear regression which parameters are obtained from least square method, the parameters can be obtained directly by simple matrix computation. But many machine learning models may overfit the data when least square method is applied. So their parameters should be obtained by validation data(the data not included in training data). or These parameters can be obtained by posterior distribution in bayesian approach.\n",
    "\n",
    "There are two methods which obtain the tuning parameters by validation data. First, tuning parameters are obtained by one relatively large validation set. This method is usually used in deep learning where the size of data is big. Second, tuning parameters are obtained by k different validation sets. This method is usally used in machine learning where the size of data is not big."
   ]
  },
  {
   "cell_type": "code",
   "execution_count": null,
   "metadata": {},
   "outputs": [],
   "source": []
  },
  {
   "cell_type": "code",
   "execution_count": null,
   "metadata": {},
   "outputs": [],
   "source": []
  },
  {
   "cell_type": "code",
   "execution_count": null,
   "metadata": {},
   "outputs": [],
   "source": []
  },
  {
   "cell_type": "code",
   "execution_count": null,
   "metadata": {},
   "outputs": [],
   "source": []
  }
 ],
 "metadata": {
  "kernelspec": {
   "display_name": "R",
   "language": "R",
   "name": "ir"
  },
  "language_info": {
   "codemirror_mode": "r",
   "file_extension": ".r",
   "mimetype": "text/x-r-source",
   "name": "R",
   "pygments_lexer": "r",
   "version": "3.6.1"
  }
 },
 "nbformat": 4,
 "nbformat_minor": 4
}
