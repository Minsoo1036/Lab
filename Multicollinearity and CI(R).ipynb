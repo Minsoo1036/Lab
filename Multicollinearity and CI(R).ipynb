{
 "cells": [
  {
   "cell_type": "markdown",
   "metadata": {},
   "source": [
    "# Multicollinearity and Confidence interval"
   ]
  },
  {
   "cell_type": "markdown",
   "metadata": {},
   "source": [
    "In linear regression, when explanatory variables are correlated highly each other(this is called multicollinearity), the standard errors of estimates related to the explanatory variables are too large. So the estimates are often regarded insignificant.(To resolve this problem, Lasso or Ridge regression is applied.) Anyway, I wonder whether the estimate's confidence interval also be distorted by multicollinearity."
   ]
  },
  {
   "cell_type": "markdown",
   "metadata": {},
   "source": [
    "At first, generate the data set where there is high correlation between explanatory variables. For this work, I used mvtnorm package in R."
   ]
  },
  {
   "cell_type": "code",
   "execution_count": 27,
   "metadata": {},
   "outputs": [],
   "source": [
    "set.seed(1)\n",
    "library(mvtnorm)"
   ]
  },
  {
   "cell_type": "code",
   "execution_count": 28,
   "metadata": {},
   "outputs": [
    {
     "data": {
      "text/html": [
       "<table>\n",
       "<tbody>\n",
       "\t<tr><td>1.0</td><td>0.9</td><td>0  </td></tr>\n",
       "\t<tr><td>0.9</td><td>1.0</td><td>0  </td></tr>\n",
       "\t<tr><td>0.0</td><td>0.0</td><td>1  </td></tr>\n",
       "</tbody>\n",
       "</table>\n"
      ],
      "text/latex": [
       "\\begin{tabular}{lll}\n",
       "\t 1.0 & 0.9 & 0  \\\\\n",
       "\t 0.9 & 1.0 & 0  \\\\\n",
       "\t 0.0 & 0.0 & 1  \\\\\n",
       "\\end{tabular}\n"
      ],
      "text/markdown": [
       "\n",
       "| 1.0 | 0.9 | 0   |\n",
       "| 0.9 | 1.0 | 0   |\n",
       "| 0.0 | 0.0 | 1   |\n",
       "\n"
      ],
      "text/plain": [
       "     [,1] [,2] [,3]\n",
       "[1,] 1.0  0.9  0   \n",
       "[2,] 0.9  1.0  0   \n",
       "[3,] 0.0  0.0  1   "
      ]
     },
     "metadata": {},
     "output_type": "display_data"
    }
   ],
   "source": [
    "cov<-matrix(c(1,0.9,0,0.9,1,0,0,0,1),byrow=TRUE,nrow=3)\n",
    "cov"
   ]
  },
  {
   "cell_type": "markdown",
   "metadata": {},
   "source": [
    "In this case, covariance matrix is same with correlation matrix since each variable's variance is 1."
   ]
  },
  {
   "cell_type": "code",
   "execution_count": 29,
   "metadata": {},
   "outputs": [
    {
     "data": {
      "text/html": [
       "<table>\n",
       "<thead><tr><th scope=col>x1</th><th scope=col>x2</th><th scope=col>x3</th></tr></thead>\n",
       "<tbody>\n",
       "\t<tr><td>-0.43327367</td><td>-0.1770985 </td><td>-0.8356286 </td></tr>\n",
       "\t<tr><td> 1.52670527</td><td> 1.1264327 </td><td>-0.8204684 </td></tr>\n",
       "\t<tr><td> 0.80512239</td><td> 0.8844626 </td><td> 0.5757814 </td></tr>\n",
       "\t<tr><td> 0.54412911</td><td> 1.1187686 </td><td> 0.3898432 </td></tr>\n",
       "\t<tr><td>-1.70258904</td><td>-2.2064851 </td><td> 1.1249309 </td></tr>\n",
       "\t<tr><td>-0.04667144</td><td>-0.0375820 </td><td> 0.9438362 </td></tr>\n",
       "</tbody>\n",
       "</table>\n"
      ],
      "text/latex": [
       "\\begin{tabular}{r|lll}\n",
       " x1 & x2 & x3\\\\\n",
       "\\hline\n",
       "\t -0.43327367 & -0.1770985  & -0.8356286 \\\\\n",
       "\t  1.52670527 &  1.1264327  & -0.8204684 \\\\\n",
       "\t  0.80512239 &  0.8844626  &  0.5757814 \\\\\n",
       "\t  0.54412911 &  1.1187686  &  0.3898432 \\\\\n",
       "\t -1.70258904 & -2.2064851  &  1.1249309 \\\\\n",
       "\t -0.04667144 & -0.0375820  &  0.9438362 \\\\\n",
       "\\end{tabular}\n"
      ],
      "text/markdown": [
       "\n",
       "| x1 | x2 | x3 |\n",
       "|---|---|---|\n",
       "| -0.43327367 | -0.1770985  | -0.8356286  |\n",
       "|  1.52670527 |  1.1264327  | -0.8204684  |\n",
       "|  0.80512239 |  0.8844626  |  0.5757814  |\n",
       "|  0.54412911 |  1.1187686  |  0.3898432  |\n",
       "| -1.70258904 | -2.2064851  |  1.1249309  |\n",
       "| -0.04667144 | -0.0375820  |  0.9438362  |\n",
       "\n"
      ],
      "text/plain": [
       "  x1          x2         x3        \n",
       "1 -0.43327367 -0.1770985 -0.8356286\n",
       "2  1.52670527  1.1264327 -0.8204684\n",
       "3  0.80512239  0.8844626  0.5757814\n",
       "4  0.54412911  1.1187686  0.3898432\n",
       "5 -1.70258904 -2.2064851  1.1249309\n",
       "6 -0.04667144 -0.0375820  0.9438362"
      ]
     },
     "metadata": {},
     "output_type": "display_data"
    }
   ],
   "source": [
    "n<-100\n",
    "df<-rmvnorm(n,mean=c(0,0,0),sigma=cov)\n",
    "df<-as.data.frame(df)\n",
    "colnames(df)<-c(\"x1\",\"x2\",\"x3\")\n",
    "head(df)"
   ]
  },
  {
   "cell_type": "code",
   "execution_count": 30,
   "metadata": {},
   "outputs": [],
   "source": [
    "eps<-rnorm(100)"
   ]
  },
  {
   "cell_type": "code",
   "execution_count": 31,
   "metadata": {},
   "outputs": [],
   "source": [
    "df$y <- df$x1 + 2*df$x2 + 3*df$x3 + eps"
   ]
  },
  {
   "cell_type": "code",
   "execution_count": 32,
   "metadata": {},
   "outputs": [
    {
     "data": {
      "text/html": [
       "<table>\n",
       "<thead><tr><th scope=col>x1</th><th scope=col>x2</th><th scope=col>x3</th><th scope=col>y</th></tr></thead>\n",
       "<tbody>\n",
       "\t<tr><td>-0.43327367</td><td>-0.1770985 </td><td>-0.8356286 </td><td>-2.4006827 </td></tr>\n",
       "\t<tr><td> 1.52670527</td><td> 1.1264327 </td><td>-0.8204684 </td><td> 0.2708673 </td></tr>\n",
       "\t<tr><td> 0.80512239</td><td> 0.8844626 </td><td> 0.5757814 </td><td> 6.2727290 </td></tr>\n",
       "\t<tr><td> 0.54412911</td><td> 1.1187686 </td><td> 0.3898432 </td><td> 3.5675639 </td></tr>\n",
       "\t<tr><td>-1.70258904</td><td>-2.2064851 </td><td> 1.1249309 </td><td>-1.0866212 </td></tr>\n",
       "\t<tr><td>-0.04667144</td><td>-0.0375820 </td><td> 0.9438362 </td><td> 4.2218859 </td></tr>\n",
       "</tbody>\n",
       "</table>\n"
      ],
      "text/latex": [
       "\\begin{tabular}{r|llll}\n",
       " x1 & x2 & x3 & y\\\\\n",
       "\\hline\n",
       "\t -0.43327367 & -0.1770985  & -0.8356286  & -2.4006827 \\\\\n",
       "\t  1.52670527 &  1.1264327  & -0.8204684  &  0.2708673 \\\\\n",
       "\t  0.80512239 &  0.8844626  &  0.5757814  &  6.2727290 \\\\\n",
       "\t  0.54412911 &  1.1187686  &  0.3898432  &  3.5675639 \\\\\n",
       "\t -1.70258904 & -2.2064851  &  1.1249309  & -1.0866212 \\\\\n",
       "\t -0.04667144 & -0.0375820  &  0.9438362  &  4.2218859 \\\\\n",
       "\\end{tabular}\n"
      ],
      "text/markdown": [
       "\n",
       "| x1 | x2 | x3 | y |\n",
       "|---|---|---|---|\n",
       "| -0.43327367 | -0.1770985  | -0.8356286  | -2.4006827  |\n",
       "|  1.52670527 |  1.1264327  | -0.8204684  |  0.2708673  |\n",
       "|  0.80512239 |  0.8844626  |  0.5757814  |  6.2727290  |\n",
       "|  0.54412911 |  1.1187686  |  0.3898432  |  3.5675639  |\n",
       "| -1.70258904 | -2.2064851  |  1.1249309  | -1.0866212  |\n",
       "| -0.04667144 | -0.0375820  |  0.9438362  |  4.2218859  |\n",
       "\n"
      ],
      "text/plain": [
       "  x1          x2         x3         y         \n",
       "1 -0.43327367 -0.1770985 -0.8356286 -2.4006827\n",
       "2  1.52670527  1.1264327 -0.8204684  0.2708673\n",
       "3  0.80512239  0.8844626  0.5757814  6.2727290\n",
       "4  0.54412911  1.1187686  0.3898432  3.5675639\n",
       "5 -1.70258904 -2.2064851  1.1249309 -1.0866212\n",
       "6 -0.04667144 -0.0375820  0.9438362  4.2218859"
      ]
     },
     "metadata": {},
     "output_type": "display_data"
    }
   ],
   "source": [
    "head(df)"
   ]
  },
  {
   "cell_type": "code",
   "execution_count": 33,
   "metadata": {},
   "outputs": [
    {
     "data": {
      "image/png": "[encoded data removed]",
      "text/plain": [
       "plot without title"
      ]
     },
     "metadata": {},
     "output_type": "display_data"
    }
   ],
   "source": [
    "plot(df)"
   ]
  },
  {
   "cell_type": "code",
   "execution_count": 34,
   "metadata": {},
   "outputs": [
    {
     "data": {
      "text/plain": [
       "\n",
       "Call:\n",
       "lm(formula = y ~ x1 + x2 + x3, data = df)\n",
       "\n",
       "Residuals:\n",
       "     Min       1Q   Median       3Q      Max \n",
       "-2.67742 -0.55994 -0.06996  0.69082  2.03786 \n",
       "\n",
       "Coefficients:\n",
       "            Estimate Std. Error t value Pr(>|t|)    \n",
       "(Intercept)  0.03841    0.10142   0.379 0.705704    \n",
       "x1           0.87723    0.21815   4.021 0.000115 ***\n",
       "x2           2.09445    0.24006   8.725 8.13e-14 ***\n",
       "x3           2.84435    0.11288  25.199  < 2e-16 ***\n",
       "---\n",
       "Signif. codes:  0 '***' 0.001 '**' 0.01 '*' 0.05 '.' 0.1 ' ' 1\n",
       "\n",
       "Residual standard error: 0.9954 on 96 degrees of freedom\n",
       "Multiple R-squared:  0.9341,\tAdjusted R-squared:  0.932 \n",
       "F-statistic: 453.3 on 3 and 96 DF,  p-value: < 2.2e-16\n"
      ]
     },
     "metadata": {},
     "output_type": "display_data"
    }
   ],
   "source": [
    "fit<-lm(y~x1+x2+x3,data=df)\n",
    "summary(fit)"
   ]
  },
  {
   "cell_type": "markdown",
   "metadata": {},
   "source": [
    "In this case, x1,x2,x3 are regarded as significant variables. and the confidence intervals include true parameter values."
   ]
  },
  {
   "cell_type": "code",
   "execution_count": 35,
   "metadata": {},
   "outputs": [
    {
     "data": {
      "text/html": [
       "0.449662687039013"
      ],
      "text/latex": [
       "0.449662687039013"
      ],
      "text/markdown": [
       "0.449662687039013"
      ],
      "text/plain": [
       "[1] 0.4496627"
      ]
     },
     "metadata": {},
     "output_type": "display_data"
    },
    {
     "data": {
      "text/html": [
       "1.30479197281786"
      ],
      "text/latex": [
       "1.30479197281786"
      ],
      "text/markdown": [
       "1.30479197281786"
      ],
      "text/plain": [
       "[1] 1.304792"
      ]
     },
     "metadata": {},
     "output_type": "display_data"
    }
   ],
   "source": [
    "summary(fit)[[4]][2,1]-1.96*summary(fit)[[4]][2,2] ; summary(fit)[[4]][2,1]+1.96*summary(fit)[[4]][2,2] #confidence interval of x1"
   ]
  },
  {
   "cell_type": "code",
   "execution_count": 36,
   "metadata": {},
   "outputs": [
    {
     "data": {
      "text/html": [
       "1.62393666667639"
      ],
      "text/latex": [
       "1.62393666667639"
      ],
      "text/markdown": [
       "1.62393666667639"
      ],
      "text/plain": [
       "[1] 1.623937"
      ]
     },
     "metadata": {},
     "output_type": "display_data"
    },
    {
     "data": {
      "text/html": [
       "2.56495595021633"
      ],
      "text/latex": [
       "2.56495595021633"
      ],
      "text/markdown": [
       "2.56495595021633"
      ],
      "text/plain": [
       "[1] 2.564956"
      ]
     },
     "metadata": {},
     "output_type": "display_data"
    }
   ],
   "source": [
    "summary(fit)[[4]][3,1]-1.96*summary(fit)[[4]][3,2] ; summary(fit)[[4]][3,1]+1.96*summary(fit)[[4]][3,2] #confidence interval of x2"
   ]
  },
  {
   "cell_type": "code",
   "execution_count": 37,
   "metadata": {},
   "outputs": [
    {
     "data": {
      "text/html": [
       "2.62310951211042"
      ],
      "text/latex": [
       "2.62310951211042"
      ],
      "text/markdown": [
       "2.62310951211042"
      ],
      "text/plain": [
       "[1] 2.62311"
      ]
     },
     "metadata": {},
     "output_type": "display_data"
    },
    {
     "data": {
      "text/html": [
       "3.06558567240258"
      ],
      "text/latex": [
       "3.06558567240258"
      ],
      "text/markdown": [
       "3.06558567240258"
      ],
      "text/plain": [
       "[1] 3.065586"
      ]
     },
     "metadata": {},
     "output_type": "display_data"
    }
   ],
   "source": [
    "summary(fit)[[4]][4,1]-1.96*summary(fit)[[4]][4,2] ; summary(fit)[[4]][4,1]+1.96*summary(fit)[[4]][4,2] #confidence interval of x3"
   ]
  },
  {
   "cell_type": "markdown",
   "metadata": {},
   "source": [
    "and I want to check the variance inflation factor(VIF). For this, I use car package."
   ]
  },
  {
   "cell_type": "code",
   "execution_count": 39,
   "metadata": {},
   "outputs": [
    {
     "data": {
      "text/html": [
       "<dl class=dl-horizontal>\n",
       "\t<dt>x1</dt>\n",
       "\t\t<dd>4.91045988105321</dd>\n",
       "\t<dt>x2</dt>\n",
       "\t\t<dd>4.91072491681053</dd>\n",
       "\t<dt>x3</dt>\n",
       "\t\t<dd>1.00068270296558</dd>\n",
       "</dl>\n"
      ],
      "text/latex": [
       "\\begin{description*}\n",
       "\\item[x1] 4.91045988105321\n",
       "\\item[x2] 4.91072491681053\n",
       "\\item[x3] 1.00068270296558\n",
       "\\end{description*}\n"
      ],
      "text/markdown": [
       "x1\n",
       ":   4.91045988105321x2\n",
       ":   4.91072491681053x3\n",
       ":   1.00068270296558\n",
       "\n"
      ],
      "text/plain": [
       "      x1       x2       x3 \n",
       "4.910460 4.910725 1.000683 "
      ]
     },
     "metadata": {},
     "output_type": "display_data"
    }
   ],
   "source": [
    "library(car)\n",
    "vif(fit)"
   ]
  },
  {
   "cell_type": "markdown",
   "metadata": {},
   "source": [
    "It seems like there is few multicollinearity. and I like to check the coverage of confidence interval. For this, I iterate the upper procedures."
   ]
  },
  {
   "cell_type": "code",
   "execution_count": 43,
   "metadata": {},
   "outputs": [
    {
     "name": "stdout",
     "output_type": "stream",
     "text": [
      "[1] 0.953\n",
      "[1] 0.949\n",
      "[1] 0.941\n"
     ]
    }
   ],
   "source": [
    "x1_count<-0\n",
    "x2_count<-0\n",
    "x3_count<-0\n",
    "for(i in 1:1000){\n",
    "    set.seed(i)\n",
    "    df<-rmvnorm(n,mean=c(0,0,0),sigma=cov)\n",
    "    df<-as.data.frame(df)\n",
    "    colnames(df)<-c(\"x1\",\"x2\",\"x3\")\n",
    "    \n",
    "    eps<-rnorm(100)\n",
    "    df$y <- df$x1 + 2*df$x2 + 3*df$x3 + eps\n",
    "    fit<-lm(y~x1+x2+x3,data=df)\n",
    "    \n",
    "    x1_count <- x1_count+(summary(fit)[[4]][2,1]-1.96*summary(fit)[[4]][2,2]<=1)*(1<=summary(fit)[[4]][2,1]+1.96*summary(fit)[[4]][2,2])\n",
    "    x2_count <- x2_count+(summary(fit)[[4]][3,1]-1.96*summary(fit)[[4]][3,2]<=2)*(2<=summary(fit)[[4]][3,1]+1.96*summary(fit)[[4]][3,2])\n",
    "    x3_count <- x3_count+(summary(fit)[[4]][4,1]-1.96*summary(fit)[[4]][4,2]<=3)*(3<=summary(fit)[[4]][4,1]+1.96*summary(fit)[[4]][4,2])\n",
    "\n",
    "}\n",
    "print(x1_count/1000)\n",
    "print(x2_count/1000)\n",
    "print(x3_count/1000)"
   ]
  },
  {
   "cell_type": "markdown",
   "metadata": {},
   "source": [
    "It seems like the confidence intervals are correct in this case. and I would change the covariance matrix more drastically. and do same thing."
   ]
  },
  {
   "cell_type": "code",
   "execution_count": 48,
   "metadata": {},
   "outputs": [
    {
     "data": {
      "text/html": [
       "<table>\n",
       "<tbody>\n",
       "\t<tr><td>1.00</td><td>0.99</td><td>0.99</td></tr>\n",
       "\t<tr><td>0.99</td><td>1.00</td><td>0.99</td></tr>\n",
       "\t<tr><td>0.99</td><td>0.99</td><td>1.00</td></tr>\n",
       "</tbody>\n",
       "</table>\n"
      ],
      "text/latex": [
       "\\begin{tabular}{lll}\n",
       "\t 1.00 & 0.99 & 0.99\\\\\n",
       "\t 0.99 & 1.00 & 0.99\\\\\n",
       "\t 0.99 & 0.99 & 1.00\\\\\n",
       "\\end{tabular}\n"
      ],
      "text/markdown": [
       "\n",
       "| 1.00 | 0.99 | 0.99 |\n",
       "| 0.99 | 1.00 | 0.99 |\n",
       "| 0.99 | 0.99 | 1.00 |\n",
       "\n"
      ],
      "text/plain": [
       "     [,1] [,2] [,3]\n",
       "[1,] 1.00 0.99 0.99\n",
       "[2,] 0.99 1.00 0.99\n",
       "[3,] 0.99 0.99 1.00"
      ]
     },
     "metadata": {},
     "output_type": "display_data"
    }
   ],
   "source": [
    "cov<-matrix(c(1,0.99,0.99,0.99,1,0.99,0.99,0.99,1),byrow=TRUE,nrow=3)\n",
    "cov"
   ]
  },
  {
   "cell_type": "code",
   "execution_count": 49,
   "metadata": {},
   "outputs": [
    {
     "name": "stdout",
     "output_type": "stream",
     "text": [
      "[1] 0.948\n",
      "[1] 0.943\n",
      "[1] 0.945\n"
     ]
    }
   ],
   "source": [
    "x1_count<-0\n",
    "x2_count<-0\n",
    "x3_count<-0\n",
    "for(i in 1:1000){\n",
    "    set.seed(i)\n",
    "    df<-rmvnorm(n,mean=c(0,0,0),sigma=cov)\n",
    "    df<-as.data.frame(df)\n",
    "    colnames(df)<-c(\"x1\",\"x2\",\"x3\")\n",
    "    \n",
    "    eps<-rnorm(100)\n",
    "    df$y <- df$x1 + 2*df$x2 + 3*df$x3 + eps\n",
    "    fit<-lm(y~x1+x2+x3,data=df)\n",
    "    \n",
    "    x1_count <- x1_count+(summary(fit)[[4]][2,1]-1.96*summary(fit)[[4]][2,2]<=1)*(1<=summary(fit)[[4]][2,1]+1.96*summary(fit)[[4]][2,2])\n",
    "    x2_count <- x2_count+(summary(fit)[[4]][3,1]-1.96*summary(fit)[[4]][3,2]<=2)*(2<=summary(fit)[[4]][3,1]+1.96*summary(fit)[[4]][3,2])\n",
    "    x3_count <- x3_count+(summary(fit)[[4]][4,1]-1.96*summary(fit)[[4]][4,2]<=3)*(3<=summary(fit)[[4]][4,1]+1.96*summary(fit)[[4]][4,2])\n",
    "\n",
    "}\n",
    "print(x1_count/1000)\n",
    "print(x2_count/1000)\n",
    "print(x3_count/1000)"
   ]
  },
  {
   "cell_type": "markdown",
   "metadata": {},
   "source": [
    "It seems like the confidence intervals are correct regardless with the strength of correlation. and I check the estimates and standard errors of the estimates."
   ]
  },
  {
   "cell_type": "code",
   "execution_count": 50,
   "metadata": {},
   "outputs": [
    {
     "data": {
      "text/plain": [
       "\n",
       "Call:\n",
       "lm(formula = y ~ x1 + x2 + x3, data = df)\n",
       "\n",
       "Residuals:\n",
       "    Min      1Q  Median      3Q     Max \n",
       "-2.7532 -0.7086 -0.1148  0.7617  2.1174 \n",
       "\n",
       "Coefficients:\n",
       "            Estimate Std. Error t value Pr(>|t|)    \n",
       "(Intercept)  0.01454    0.10113   0.144 0.886000    \n",
       "x1           0.62082    0.81161   0.765 0.446192    \n",
       "x2           2.49884    0.85300   2.929 0.004242 ** \n",
       "x3           2.84327    0.78672   3.614 0.000482 ***\n",
       "---\n",
       "Signif. codes:  0 '***' 0.001 '**' 0.01 '*' 0.05 '.' 0.1 ' ' 1\n",
       "\n",
       "Residual standard error: 1.003 on 96 degrees of freedom\n",
       "Multiple R-squared:  0.9609,\tAdjusted R-squared:  0.9597 \n",
       "F-statistic: 786.6 on 3 and 96 DF,  p-value: < 2.2e-16\n"
      ]
     },
     "metadata": {},
     "output_type": "display_data"
    }
   ],
   "source": [
    "summary(fit)"
   ]
  },
  {
   "cell_type": "markdown",
   "metadata": {},
   "source": [
    "In 1000th iteration, x1 is regarded as insignificant variable. I check VIF in this case."
   ]
  },
  {
   "cell_type": "code",
   "execution_count": 51,
   "metadata": {},
   "outputs": [
    {
     "data": {
      "text/html": [
       "<dl class=dl-horizontal>\n",
       "\t<dt>x1</dt>\n",
       "\t\t<dd>46.4261344662544</dd>\n",
       "\t<dt>x2</dt>\n",
       "\t\t<dd>48.3492209200053</dd>\n",
       "\t<dt>x3</dt>\n",
       "\t\t<dd>41.2550035868447</dd>\n",
       "</dl>\n"
      ],
      "text/latex": [
       "\\begin{description*}\n",
       "\\item[x1] 46.4261344662544\n",
       "\\item[x2] 48.3492209200053\n",
       "\\item[x3] 41.2550035868447\n",
       "\\end{description*}\n"
      ],
      "text/markdown": [
       "x1\n",
       ":   46.4261344662544x2\n",
       ":   48.3492209200053x3\n",
       ":   41.2550035868447\n",
       "\n"
      ],
      "text/plain": [
       "      x1       x2       x3 \n",
       "46.42613 48.34922 41.25500 "
      ]
     },
     "metadata": {},
     "output_type": "display_data"
    }
   ],
   "source": [
    "vif(fit)"
   ]
  },
  {
   "cell_type": "markdown",
   "metadata": {},
   "source": [
    "In this case, the VIFs are so high that the multicollinearity is suspected. so I would count how many the confidence interval includes 0(i.e, the variable is regarded as insignificant variable.)."
   ]
  },
  {
   "cell_type": "code",
   "execution_count": 52,
   "metadata": {},
   "outputs": [
    {
     "name": "stdout",
     "output_type": "stream",
     "text": [
      "[1] 0.765\n",
      "[1] 0.323\n",
      "[1] 0.058\n"
     ]
    }
   ],
   "source": [
    "x1_count<-0\n",
    "x2_count<-0\n",
    "x3_count<-0\n",
    "for(i in 1:1000){\n",
    "    set.seed(i)\n",
    "    df<-rmvnorm(n,mean=c(0,0,0),sigma=cov)\n",
    "    df<-as.data.frame(df)\n",
    "    colnames(df)<-c(\"x1\",\"x2\",\"x3\")\n",
    "    \n",
    "    eps<-rnorm(100)\n",
    "    df$y <- df$x1 + 2*df$x2 + 3*df$x3 + eps\n",
    "    fit<-lm(y~x1+x2+x3,data=df)\n",
    "    \n",
    "    x1_count <- x1_count+(summary(fit)[[4]][2,1]-1.96*summary(fit)[[4]][2,2]<=0)*(0<=summary(fit)[[4]][2,1]+1.96*summary(fit)[[4]][2,2])\n",
    "    x2_count <- x2_count+(summary(fit)[[4]][3,1]-1.96*summary(fit)[[4]][3,2]<=0)*(0<=summary(fit)[[4]][3,1]+1.96*summary(fit)[[4]][3,2])\n",
    "    x3_count <- x3_count+(summary(fit)[[4]][4,1]-1.96*summary(fit)[[4]][4,2]<=0)*(0<=summary(fit)[[4]][4,1]+1.96*summary(fit)[[4]][4,2])\n",
    "\n",
    "}\n",
    "print(x1_count/1000)\n",
    "print(x2_count/1000)\n",
    "print(x3_count/1000)"
   ]
  },
  {
   "cell_type": "markdown",
   "metadata": {},
   "source": [
    "I compare it with upper case(not drastically correlated case)."
   ]
  },
  {
   "cell_type": "code",
   "execution_count": 53,
   "metadata": {},
   "outputs": [
    {
     "data": {
      "text/html": [
       "<table>\n",
       "<tbody>\n",
       "\t<tr><td>1.0</td><td>0.9</td><td>0  </td></tr>\n",
       "\t<tr><td>0.9</td><td>1.0</td><td>0  </td></tr>\n",
       "\t<tr><td>0.0</td><td>0.0</td><td>1  </td></tr>\n",
       "</tbody>\n",
       "</table>\n"
      ],
      "text/latex": [
       "\\begin{tabular}{lll}\n",
       "\t 1.0 & 0.9 & 0  \\\\\n",
       "\t 0.9 & 1.0 & 0  \\\\\n",
       "\t 0.0 & 0.0 & 1  \\\\\n",
       "\\end{tabular}\n"
      ],
      "text/markdown": [
       "\n",
       "| 1.0 | 0.9 | 0   |\n",
       "| 0.9 | 1.0 | 0   |\n",
       "| 0.0 | 0.0 | 1   |\n",
       "\n"
      ],
      "text/plain": [
       "     [,1] [,2] [,3]\n",
       "[1,] 1.0  0.9  0   \n",
       "[2,] 0.9  1.0  0   \n",
       "[3,] 0.0  0.0  1   "
      ]
     },
     "metadata": {},
     "output_type": "display_data"
    }
   ],
   "source": [
    "cov<-matrix(c(1,0.9,0,0.9,1,0,0,0,1),byrow=TRUE,nrow=3)\n",
    "cov"
   ]
  },
  {
   "cell_type": "code",
   "execution_count": 54,
   "metadata": {},
   "outputs": [
    {
     "name": "stdout",
     "output_type": "stream",
     "text": [
      "[1] 0.012\n",
      "[1] 0\n",
      "[1] 0\n"
     ]
    }
   ],
   "source": [
    "x1_count<-0\n",
    "x2_count<-0\n",
    "x3_count<-0\n",
    "for(i in 1:1000){\n",
    "    set.seed(i)\n",
    "    df<-rmvnorm(n,mean=c(0,0,0),sigma=cov)\n",
    "    df<-as.data.frame(df)\n",
    "    colnames(df)<-c(\"x1\",\"x2\",\"x3\")\n",
    "    \n",
    "    eps<-rnorm(100)\n",
    "    df$y <- df$x1 + 2*df$x2 + 3*df$x3 + eps\n",
    "    fit<-lm(y~x1+x2+x3,data=df)\n",
    "    \n",
    "    x1_count <- x1_count+(summary(fit)[[4]][2,1]-1.96*summary(fit)[[4]][2,2]<=0)*(0<=summary(fit)[[4]][2,1]+1.96*summary(fit)[[4]][2,2])\n",
    "    x2_count <- x2_count+(summary(fit)[[4]][3,1]-1.96*summary(fit)[[4]][3,2]<=0)*(0<=summary(fit)[[4]][3,1]+1.96*summary(fit)[[4]][3,2])\n",
    "    x3_count <- x3_count+(summary(fit)[[4]][4,1]-1.96*summary(fit)[[4]][4,2]<=0)*(0<=summary(fit)[[4]][4,1]+1.96*summary(fit)[[4]][4,2])\n",
    "\n",
    "}\n",
    "print(x1_count/1000)\n",
    "print(x2_count/1000)\n",
    "print(x3_count/1000)"
   ]
  },
  {
   "cell_type": "markdown",
   "metadata": {},
   "source": [
    "So I see the multicollinearity doesn't cause the incorrect confidence interval. But, it can cause the low power in the estimate's significance test. maybe it is caused by long confidence interval. So in multicollinearity situation, type 1 error is low but, type 2 error is so high."
   ]
  }
 ],
 "metadata": {
  "kernelspec": {
   "display_name": "R",
   "language": "R",
   "name": "ir"
  },
  "language_info": {
   "codemirror_mode": "r",
   "file_extension": ".r",
   "mimetype": "text/x-r-source",
   "name": "R",
   "pygments_lexer": "r",
   "version": "3.6.1"
  }
 },
 "nbformat": 4,
 "nbformat_minor": 4
}
