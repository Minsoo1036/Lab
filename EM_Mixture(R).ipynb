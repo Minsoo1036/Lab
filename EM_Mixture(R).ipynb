{
 "cells": [
  {
   "cell_type": "markdown",
   "metadata": {},
   "source": [
    "# Mixture model and EM algorithm "
   ]
  },
  {
   "cell_type": "code",
   "execution_count": 1,
   "metadata": {},
   "outputs": [
    {
     "data": {
      "image/png": "[encoded data removed]",
      "text/plain": [
       "Plot with title \"Histogram of tt\""
      ]
     },
     "metadata": {},
     "output_type": "display_data"
    }
   ],
   "source": [
    "set.seed(1)\n",
    "tt=c()\n",
    "for(j in 1:300){\n",
    "  k=runif(1)\n",
    "  if(k<0.3){\n",
    "    tt=append(tt,rnorm(1,50,5))\n",
    "  }else{\n",
    "    tt=append(tt,rnorm(1,80,8))\n",
    "  }\n",
    "}\n",
    "hist(tt)"
   ]
  },
  {
   "cell_type": "code",
   "execution_count": 2,
   "metadata": {},
   "outputs": [
    {
     "data": {
      "image/png": "[encoded data removed]",
      "text/plain": [
       "Plot with title \"Histogram of a3\""
      ]
     },
     "metadata": {},
     "output_type": "display_data"
    }
   ],
   "source": [
    "a3=round(tt) #assume the measured real data\n",
    "hist(a3)"
   ]
  },
  {
   "cell_type": "code",
   "execution_count": 3,
   "metadata": {},
   "outputs": [
    {
     "data": {
      "text/html": [
       "<table>\n",
       "<thead><tr><th scope=col>u1</th><th scope=col>u2</th><th scope=col>sigma1</th><th scope=col>sigma2</th><th scope=col>fi</th></tr></thead>\n",
       "<tbody>\n",
       "\t<tr><td>45 </td><td>80 </td><td>4  </td><td>7  </td><td>0.4</td></tr>\n",
       "</tbody>\n",
       "</table>\n"
      ],
      "text/latex": [
       "\\begin{tabular}{r|lllll}\n",
       " u1 & u2 & sigma1 & sigma2 & fi\\\\\n",
       "\\hline\n",
       "\t 45  & 80  & 4   & 7   & 0.4\\\\\n",
       "\\end{tabular}\n"
      ],
      "text/markdown": [
       "\n",
       "| u1 | u2 | sigma1 | sigma2 | fi |\n",
       "|---|---|---|---|---|\n",
       "| 45  | 80  | 4   | 7   | 0.4 |\n",
       "\n"
      ],
      "text/plain": [
       "  u1 u2 sigma1 sigma2 fi \n",
       "1 45 80 4      7      0.4"
      ]
     },
     "metadata": {},
     "output_type": "display_data"
    }
   ],
   "source": [
    "#2.EM\n",
    "fi=0.4\n",
    "u1=45\n",
    "sigma1=4\n",
    "u2=80\n",
    "sigma2=7\n",
    "dd=data.frame(u1=u1,u2=u2,sigma1=sigma1,sigma2=sigma2,fi=fi)\n",
    "dd\n",
    "\n",
    "for(i in 1:50){\n",
    "  p1=fi*dnorm(a3,u1,sigma1)/(fi*dnorm(a3,u1,sigma1)+(1-fi)*dnorm(a3,u2,sigma2))\n",
    "  p2=(1-fi)*dnorm(a3,u2,sigma2)/(fi*dnorm(a3,u1,sigma1)+(1-fi)*dnorm(a3,u2,sigma2))\n",
    "  \n",
    "  u1_new=sum(p1*a3)/sum(p1)\n",
    "  u2_new=sum(p2*a3)/sum(p2)\n",
    "  sigma1_new_square=sum(p1*(a3-u1_new)^2)/sum(p1)\n",
    "  sigma2_new_square=sum(p2*(a3-u2_new)^2)/sum(p2)\n",
    "  fi_new=sum(p1)/300\n",
    "  \n",
    "  cc=c(u1_new,u2_new,sqrt(sigma1_new_square),sqrt(sigma2_new_square),fi_new)\n",
    "  dd=rbind(dd,cc)\n",
    "  \n",
    "  fi=fi_new\n",
    "  u1=u1_new\n",
    "  u2=u2_new\n",
    "  sigma1=sqrt(sigma1_new_square)\n",
    "  sigma2=sqrt(sigma2_new_square)\n",
    "}"
   ]
  },
  {
   "cell_type": "code",
   "execution_count": 9,
   "metadata": {},
   "outputs": [
    {
     "data": {
      "text/html": [
       "<table>\n",
       "<thead><tr><th scope=col>u1</th><th scope=col>u2</th><th scope=col>sigma1</th><th scope=col>sigma2</th><th scope=col>fi</th></tr></thead>\n",
       "<tbody>\n",
       "\t<tr><td>45.00000 </td><td>80.00000 </td><td>4.000000 </td><td>7.000000 </td><td>0.4000000</td></tr>\n",
       "\t<tr><td>48.09756 </td><td>79.64945 </td><td>4.491582 </td><td>8.112340 </td><td>0.2774092</td></tr>\n",
       "\t<tr><td>48.29587 </td><td>79.78289 </td><td>4.693923 </td><td>7.975066 </td><td>0.2822187</td></tr>\n",
       "\t<tr><td>48.40238 </td><td>79.86974 </td><td>4.792175 </td><td>7.873494 </td><td>0.2851549</td></tr>\n",
       "\t<tr><td>48.46162 </td><td>79.91702 </td><td>4.847573 </td><td>7.818136 </td><td>0.2867666</td></tr>\n",
       "\t<tr><td>48.49410 </td><td>79.94219 </td><td>4.878534 </td><td>7.788921 </td><td>0.2876335</td></tr>\n",
       "\t<tr><td>48.51168 </td><td>79.95556 </td><td>4.895508 </td><td>7.773496 </td><td>0.2880972</td></tr>\n",
       "\t<tr><td>48.52114 </td><td>79.96267 </td><td>4.904700 </td><td>7.765322 </td><td>0.2883448</td></tr>\n",
       "\t<tr><td>48.52620 </td><td>79.96645 </td><td>4.909642 </td><td>7.760979 </td><td>0.2884769</td></tr>\n",
       "\t<tr><td>48.52891 </td><td>79.96847 </td><td>4.912289 </td><td>7.758667 </td><td>0.2885474</td></tr>\n",
       "\t<tr><td>48.53036 </td><td>79.96955 </td><td>4.913705 </td><td>7.757436 </td><td>0.2885850</td></tr>\n",
       "\t<tr><td>48.53113 </td><td>79.97012 </td><td>4.914460 </td><td>7.756779 </td><td>0.2886051</td></tr>\n",
       "\t<tr><td>48.53154 </td><td>79.97043 </td><td>4.914864 </td><td>7.756430 </td><td>0.2886158</td></tr>\n",
       "\t<tr><td>48.53176 </td><td>79.97059 </td><td>4.915079 </td><td>7.756243 </td><td>0.2886215</td></tr>\n",
       "\t<tr><td>48.53187 </td><td>79.97068 </td><td>4.915193 </td><td>7.756143 </td><td>0.2886245</td></tr>\n",
       "\t<tr><td>48.53194 </td><td>79.97072 </td><td>4.915255 </td><td>7.756090 </td><td>0.2886261</td></tr>\n",
       "\t<tr><td>48.53197 </td><td>79.97075 </td><td>4.915287 </td><td>7.756062 </td><td>0.2886270</td></tr>\n",
       "\t<tr><td>48.53199 </td><td>79.97076 </td><td>4.915305 </td><td>7.756047 </td><td>0.2886275</td></tr>\n",
       "\t<tr><td>48.53200 </td><td>79.97077 </td><td>4.915314 </td><td>7.756039 </td><td>0.2886277</td></tr>\n",
       "\t<tr><td>48.53200 </td><td>79.97077 </td><td>4.915319 </td><td>7.756035 </td><td>0.2886278</td></tr>\n",
       "</tbody>\n",
       "</table>\n"
      ],
      "text/latex": [
       "\\begin{tabular}{r|lllll}\n",
       " u1 & u2 & sigma1 & sigma2 & fi\\\\\n",
       "\\hline\n",
       "\t 45.00000  & 80.00000  & 4.000000  & 7.000000  & 0.4000000\\\\\n",
       "\t 48.09756  & 79.64945  & 4.491582  & 8.112340  & 0.2774092\\\\\n",
       "\t 48.29587  & 79.78289  & 4.693923  & 7.975066  & 0.2822187\\\\\n",
       "\t 48.40238  & 79.86974  & 4.792175  & 7.873494  & 0.2851549\\\\\n",
       "\t 48.46162  & 79.91702  & 4.847573  & 7.818136  & 0.2867666\\\\\n",
       "\t 48.49410  & 79.94219  & 4.878534  & 7.788921  & 0.2876335\\\\\n",
       "\t 48.51168  & 79.95556  & 4.895508  & 7.773496  & 0.2880972\\\\\n",
       "\t 48.52114  & 79.96267  & 4.904700  & 7.765322  & 0.2883448\\\\\n",
       "\t 48.52620  & 79.96645  & 4.909642  & 7.760979  & 0.2884769\\\\\n",
       "\t 48.52891  & 79.96847  & 4.912289  & 7.758667  & 0.2885474\\\\\n",
       "\t 48.53036  & 79.96955  & 4.913705  & 7.757436  & 0.2885850\\\\\n",
       "\t 48.53113  & 79.97012  & 4.914460  & 7.756779  & 0.2886051\\\\\n",
       "\t 48.53154  & 79.97043  & 4.914864  & 7.756430  & 0.2886158\\\\\n",
       "\t 48.53176  & 79.97059  & 4.915079  & 7.756243  & 0.2886215\\\\\n",
       "\t 48.53187  & 79.97068  & 4.915193  & 7.756143  & 0.2886245\\\\\n",
       "\t 48.53194  & 79.97072  & 4.915255  & 7.756090  & 0.2886261\\\\\n",
       "\t 48.53197  & 79.97075  & 4.915287  & 7.756062  & 0.2886270\\\\\n",
       "\t 48.53199  & 79.97076  & 4.915305  & 7.756047  & 0.2886275\\\\\n",
       "\t 48.53200  & 79.97077  & 4.915314  & 7.756039  & 0.2886277\\\\\n",
       "\t 48.53200  & 79.97077  & 4.915319  & 7.756035  & 0.2886278\\\\\n",
       "\\end{tabular}\n"
      ],
      "text/markdown": [
       "\n",
       "| u1 | u2 | sigma1 | sigma2 | fi |\n",
       "|---|---|---|---|---|\n",
       "| 45.00000  | 80.00000  | 4.000000  | 7.000000  | 0.4000000 |\n",
       "| 48.09756  | 79.64945  | 4.491582  | 8.112340  | 0.2774092 |\n",
       "| 48.29587  | 79.78289  | 4.693923  | 7.975066  | 0.2822187 |\n",
       "| 48.40238  | 79.86974  | 4.792175  | 7.873494  | 0.2851549 |\n",
       "| 48.46162  | 79.91702  | 4.847573  | 7.818136  | 0.2867666 |\n",
       "| 48.49410  | 79.94219  | 4.878534  | 7.788921  | 0.2876335 |\n",
       "| 48.51168  | 79.95556  | 4.895508  | 7.773496  | 0.2880972 |\n",
       "| 48.52114  | 79.96267  | 4.904700  | 7.765322  | 0.2883448 |\n",
       "| 48.52620  | 79.96645  | 4.909642  | 7.760979  | 0.2884769 |\n",
       "| 48.52891  | 79.96847  | 4.912289  | 7.758667  | 0.2885474 |\n",
       "| 48.53036  | 79.96955  | 4.913705  | 7.757436  | 0.2885850 |\n",
       "| 48.53113  | 79.97012  | 4.914460  | 7.756779  | 0.2886051 |\n",
       "| 48.53154  | 79.97043  | 4.914864  | 7.756430  | 0.2886158 |\n",
       "| 48.53176  | 79.97059  | 4.915079  | 7.756243  | 0.2886215 |\n",
       "| 48.53187  | 79.97068  | 4.915193  | 7.756143  | 0.2886245 |\n",
       "| 48.53194  | 79.97072  | 4.915255  | 7.756090  | 0.2886261 |\n",
       "| 48.53197  | 79.97075  | 4.915287  | 7.756062  | 0.2886270 |\n",
       "| 48.53199  | 79.97076  | 4.915305  | 7.756047  | 0.2886275 |\n",
       "| 48.53200  | 79.97077  | 4.915314  | 7.756039  | 0.2886277 |\n",
       "| 48.53200  | 79.97077  | 4.915319  | 7.756035  | 0.2886278 |\n",
       "\n"
      ],
      "text/plain": [
       "   u1       u2       sigma1   sigma2   fi       \n",
       "1  45.00000 80.00000 4.000000 7.000000 0.4000000\n",
       "2  48.09756 79.64945 4.491582 8.112340 0.2774092\n",
       "3  48.29587 79.78289 4.693923 7.975066 0.2822187\n",
       "4  48.40238 79.86974 4.792175 7.873494 0.2851549\n",
       "5  48.46162 79.91702 4.847573 7.818136 0.2867666\n",
       "6  48.49410 79.94219 4.878534 7.788921 0.2876335\n",
       "7  48.51168 79.95556 4.895508 7.773496 0.2880972\n",
       "8  48.52114 79.96267 4.904700 7.765322 0.2883448\n",
       "9  48.52620 79.96645 4.909642 7.760979 0.2884769\n",
       "10 48.52891 79.96847 4.912289 7.758667 0.2885474\n",
       "11 48.53036 79.96955 4.913705 7.757436 0.2885850\n",
       "12 48.53113 79.97012 4.914460 7.756779 0.2886051\n",
       "13 48.53154 79.97043 4.914864 7.756430 0.2886158\n",
       "14 48.53176 79.97059 4.915079 7.756243 0.2886215\n",
       "15 48.53187 79.97068 4.915193 7.756143 0.2886245\n",
       "16 48.53194 79.97072 4.915255 7.756090 0.2886261\n",
       "17 48.53197 79.97075 4.915287 7.756062 0.2886270\n",
       "18 48.53199 79.97076 4.915305 7.756047 0.2886275\n",
       "19 48.53200 79.97077 4.915314 7.756039 0.2886277\n",
       "20 48.53200 79.97077 4.915319 7.756035 0.2886278"
      ]
     },
     "metadata": {},
     "output_type": "display_data"
    }
   ],
   "source": [
    "dd[1:20,]"
   ]
  },
  {
   "cell_type": "markdown",
   "metadata": {},
   "source": [
    "real values\n",
    "u1 : 50\n",
    "u2 : 80\n",
    "sigma1 : 5\n",
    "sigma2 : 8\n",
    "fi : 0.3"
   ]
  }
 ],
 "metadata": {
  "kernelspec": {
   "display_name": "R",
   "language": "R",
   "name": "ir"
  },
  "language_info": {
   "codemirror_mode": "r",
   "file_extension": ".r",
   "mimetype": "text/x-r-source",
   "name": "R",
   "pygments_lexer": "r",
   "version": "3.6.1"
  }
 },
 "nbformat": 4,
 "nbformat_minor": 4
}
